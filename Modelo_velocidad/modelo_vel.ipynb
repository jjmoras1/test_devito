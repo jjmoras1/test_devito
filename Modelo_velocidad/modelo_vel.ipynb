{
 "cells": [
  {
   "cell_type": "code",
   "execution_count": 110,
   "metadata": {},
   "outputs": [],
   "source": [
    "import pandas as pd\n",
    "import numpy as np\n",
    "import matplotlib.pyplot as plt\n"
   ]
  },
  {
   "cell_type": "code",
   "execution_count": 111,
   "metadata": {},
   "outputs": [],
   "source": [
    "df = pd.read_excel('base_de_datos_vel.xlsx')\n"
   ]
  },
  {
   "cell_type": "code",
   "execution_count": 112,
   "metadata": {},
   "outputs": [
    {
     "data": {
      "text/html": [
       "<div>\n",
       "<style scoped>\n",
       "    .dataframe tbody tr th:only-of-type {\n",
       "        vertical-align: middle;\n",
       "    }\n",
       "\n",
       "    .dataframe tbody tr th {\n",
       "        vertical-align: top;\n",
       "    }\n",
       "\n",
       "    .dataframe thead th {\n",
       "        text-align: right;\n",
       "    }\n",
       "</style>\n",
       "<table border=\"1\" class=\"dataframe\">\n",
       "  <thead>\n",
       "    <tr style=\"text-align: right;\">\n",
       "      <th></th>\n",
       "      <th>Level_number</th>\n",
       "      <th>DEPTH</th>\n",
       "      <th>DELTA_DEPTH</th>\n",
       "      <th>DELTA_TIME</th>\n",
       "      <th>ACOUSTIC_INTERVAL_VEL</th>\n",
       "      <th>AVERAGE_VEL</th>\n",
       "    </tr>\n",
       "  </thead>\n",
       "  <tbody>\n",
       "    <tr>\n",
       "      <th>0</th>\n",
       "      <td>1.0</td>\n",
       "      <td>0.0</td>\n",
       "      <td>NaN</td>\n",
       "      <td>NaN</td>\n",
       "      <td>NaN</td>\n",
       "      <td>NaN</td>\n",
       "    </tr>\n",
       "    <tr>\n",
       "      <th>1</th>\n",
       "      <td>NaN</td>\n",
       "      <td>NaN</td>\n",
       "      <td>NaN</td>\n",
       "      <td>NaN</td>\n",
       "      <td>7870.0</td>\n",
       "      <td>NaN</td>\n",
       "    </tr>\n",
       "    <tr>\n",
       "      <th>2</th>\n",
       "      <td>2.0</td>\n",
       "      <td>414.3</td>\n",
       "      <td>NaN</td>\n",
       "      <td>NaN</td>\n",
       "      <td>NaN</td>\n",
       "      <td>7870.0</td>\n",
       "    </tr>\n",
       "    <tr>\n",
       "      <th>3</th>\n",
       "      <td>NaN</td>\n",
       "      <td>NaN</td>\n",
       "      <td>15.7</td>\n",
       "      <td>0.0023</td>\n",
       "      <td>6913.0</td>\n",
       "      <td>NaN</td>\n",
       "    </tr>\n",
       "    <tr>\n",
       "      <th>4</th>\n",
       "      <td>3.0</td>\n",
       "      <td>430.0</td>\n",
       "      <td>NaN</td>\n",
       "      <td>NaN</td>\n",
       "      <td>NaN</td>\n",
       "      <td>7830.0</td>\n",
       "    </tr>\n",
       "    <tr>\n",
       "      <th>5</th>\n",
       "      <td>NaN</td>\n",
       "      <td>NaN</td>\n",
       "      <td>15.7</td>\n",
       "      <td>0.0025</td>\n",
       "      <td>6345.0</td>\n",
       "      <td>NaN</td>\n",
       "    </tr>\n",
       "    <tr>\n",
       "      <th>6</th>\n",
       "      <td>4.0</td>\n",
       "      <td>445.7</td>\n",
       "      <td>NaN</td>\n",
       "      <td>NaN</td>\n",
       "      <td>NaN</td>\n",
       "      <td>7766.0</td>\n",
       "    </tr>\n",
       "    <tr>\n",
       "      <th>7</th>\n",
       "      <td>NaN</td>\n",
       "      <td>NaN</td>\n",
       "      <td>15.7</td>\n",
       "      <td>0.0026</td>\n",
       "      <td>6014.0</td>\n",
       "      <td>NaN</td>\n",
       "    </tr>\n",
       "    <tr>\n",
       "      <th>8</th>\n",
       "      <td>5.0</td>\n",
       "      <td>461.4</td>\n",
       "      <td>NaN</td>\n",
       "      <td>NaN</td>\n",
       "      <td>NaN</td>\n",
       "      <td>7690.0</td>\n",
       "    </tr>\n",
       "    <tr>\n",
       "      <th>9</th>\n",
       "      <td>NaN</td>\n",
       "      <td>NaN</td>\n",
       "      <td>15.7</td>\n",
       "      <td>0.0027</td>\n",
       "      <td>5835.0</td>\n",
       "      <td>NaN</td>\n",
       "    </tr>\n",
       "    <tr>\n",
       "      <th>10</th>\n",
       "      <td>6.0</td>\n",
       "      <td>477.1</td>\n",
       "      <td>NaN</td>\n",
       "      <td>NaN</td>\n",
       "      <td>NaN</td>\n",
       "      <td>7611.0</td>\n",
       "    </tr>\n",
       "    <tr>\n",
       "      <th>11</th>\n",
       "      <td>NaN</td>\n",
       "      <td>NaN</td>\n",
       "      <td>15.7</td>\n",
       "      <td>0.0028</td>\n",
       "      <td>5653.0</td>\n",
       "      <td>NaN</td>\n",
       "    </tr>\n",
       "    <tr>\n",
       "      <th>12</th>\n",
       "      <td>7.0</td>\n",
       "      <td>492.8</td>\n",
       "      <td>NaN</td>\n",
       "      <td>NaN</td>\n",
       "      <td>NaN</td>\n",
       "      <td>7527.0</td>\n",
       "    </tr>\n",
       "    <tr>\n",
       "      <th>13</th>\n",
       "      <td>NaN</td>\n",
       "      <td>NaN</td>\n",
       "      <td>15.7</td>\n",
       "      <td>0.0029</td>\n",
       "      <td>5484.0</td>\n",
       "      <td>NaN</td>\n",
       "    </tr>\n",
       "    <tr>\n",
       "      <th>14</th>\n",
       "      <td>8.0</td>\n",
       "      <td>508.5</td>\n",
       "      <td>NaN</td>\n",
       "      <td>NaN</td>\n",
       "      <td>NaN</td>\n",
       "      <td>7442.0</td>\n",
       "    </tr>\n",
       "    <tr>\n",
       "      <th>15</th>\n",
       "      <td>NaN</td>\n",
       "      <td>NaN</td>\n",
       "      <td>15.7</td>\n",
       "      <td>0.0029</td>\n",
       "      <td>5348.0</td>\n",
       "      <td>NaN</td>\n",
       "    </tr>\n",
       "    <tr>\n",
       "      <th>16</th>\n",
       "      <td>9.0</td>\n",
       "      <td>524.2</td>\n",
       "      <td>NaN</td>\n",
       "      <td>NaN</td>\n",
       "      <td>NaN</td>\n",
       "      <td>7356.0</td>\n",
       "    </tr>\n",
       "    <tr>\n",
       "      <th>17</th>\n",
       "      <td>NaN</td>\n",
       "      <td>NaN</td>\n",
       "      <td>15.7</td>\n",
       "      <td>0.0030</td>\n",
       "      <td>5255.0</td>\n",
       "      <td>NaN</td>\n",
       "    </tr>\n",
       "    <tr>\n",
       "      <th>18</th>\n",
       "      <td>10.0</td>\n",
       "      <td>539.9</td>\n",
       "      <td>NaN</td>\n",
       "      <td>NaN</td>\n",
       "      <td>NaN</td>\n",
       "      <td>7271.0</td>\n",
       "    </tr>\n",
       "    <tr>\n",
       "      <th>19</th>\n",
       "      <td>NaN</td>\n",
       "      <td>NaN</td>\n",
       "      <td>15.7</td>\n",
       "      <td>0.0030</td>\n",
       "      <td>5224.0</td>\n",
       "      <td>NaN</td>\n",
       "    </tr>\n",
       "  </tbody>\n",
       "</table>\n",
       "</div>"
      ],
      "text/plain": [
       "    Level_number  DEPTH  DELTA_DEPTH  DELTA_TIME  ACOUSTIC_INTERVAL_VEL  \\\n",
       "0            1.0    0.0          NaN         NaN                    NaN   \n",
       "1            NaN    NaN          NaN         NaN                 7870.0   \n",
       "2            2.0  414.3          NaN         NaN                    NaN   \n",
       "3            NaN    NaN         15.7      0.0023                 6913.0   \n",
       "4            3.0  430.0          NaN         NaN                    NaN   \n",
       "5            NaN    NaN         15.7      0.0025                 6345.0   \n",
       "6            4.0  445.7          NaN         NaN                    NaN   \n",
       "7            NaN    NaN         15.7      0.0026                 6014.0   \n",
       "8            5.0  461.4          NaN         NaN                    NaN   \n",
       "9            NaN    NaN         15.7      0.0027                 5835.0   \n",
       "10           6.0  477.1          NaN         NaN                    NaN   \n",
       "11           NaN    NaN         15.7      0.0028                 5653.0   \n",
       "12           7.0  492.8          NaN         NaN                    NaN   \n",
       "13           NaN    NaN         15.7      0.0029                 5484.0   \n",
       "14           8.0  508.5          NaN         NaN                    NaN   \n",
       "15           NaN    NaN         15.7      0.0029                 5348.0   \n",
       "16           9.0  524.2          NaN         NaN                    NaN   \n",
       "17           NaN    NaN         15.7      0.0030                 5255.0   \n",
       "18          10.0  539.9          NaN         NaN                    NaN   \n",
       "19           NaN    NaN         15.7      0.0030                 5224.0   \n",
       "\n",
       "    AVERAGE_VEL  \n",
       "0           NaN  \n",
       "1           NaN  \n",
       "2        7870.0  \n",
       "3           NaN  \n",
       "4        7830.0  \n",
       "5           NaN  \n",
       "6        7766.0  \n",
       "7           NaN  \n",
       "8        7690.0  \n",
       "9           NaN  \n",
       "10       7611.0  \n",
       "11          NaN  \n",
       "12       7527.0  \n",
       "13          NaN  \n",
       "14       7442.0  \n",
       "15          NaN  \n",
       "16       7356.0  \n",
       "17          NaN  \n",
       "18       7271.0  \n",
       "19          NaN  "
      ]
     },
     "execution_count": 112,
     "metadata": {},
     "output_type": "execute_result"
    }
   ],
   "source": [
    "df.head(20)"
   ]
  },
  {
   "cell_type": "code",
   "execution_count": 114,
   "metadata": {},
   "outputs": [],
   "source": [
    "df_cleaned = df"
   ]
  },
  {
   "cell_type": "markdown",
   "metadata": {},
   "source": [
    "# iNTERPOLACIÓN DE VALORES DE PROFUNDIDAD"
   ]
  },
  {
   "cell_type": "code",
   "execution_count": 115,
   "metadata": {},
   "outputs": [],
   "source": [
    "df_cleaned['DEPTH'] = df_cleaned['DEPTH'].interpolate()"
   ]
  },
  {
   "cell_type": "code",
   "execution_count": 116,
   "metadata": {},
   "outputs": [
    {
     "data": {
      "text/html": [
       "<div>\n",
       "<style scoped>\n",
       "    .dataframe tbody tr th:only-of-type {\n",
       "        vertical-align: middle;\n",
       "    }\n",
       "\n",
       "    .dataframe tbody tr th {\n",
       "        vertical-align: top;\n",
       "    }\n",
       "\n",
       "    .dataframe thead th {\n",
       "        text-align: right;\n",
       "    }\n",
       "</style>\n",
       "<table border=\"1\" class=\"dataframe\">\n",
       "  <thead>\n",
       "    <tr style=\"text-align: right;\">\n",
       "      <th></th>\n",
       "      <th>Level_number</th>\n",
       "      <th>DEPTH</th>\n",
       "      <th>DELTA_DEPTH</th>\n",
       "      <th>DELTA_TIME</th>\n",
       "      <th>ACOUSTIC_INTERVAL_VEL</th>\n",
       "      <th>AVERAGE_VEL</th>\n",
       "    </tr>\n",
       "  </thead>\n",
       "  <tbody>\n",
       "    <tr>\n",
       "      <th>0</th>\n",
       "      <td>1.0</td>\n",
       "      <td>0.00</td>\n",
       "      <td>NaN</td>\n",
       "      <td>NaN</td>\n",
       "      <td>NaN</td>\n",
       "      <td>NaN</td>\n",
       "    </tr>\n",
       "    <tr>\n",
       "      <th>1</th>\n",
       "      <td>NaN</td>\n",
       "      <td>207.15</td>\n",
       "      <td>NaN</td>\n",
       "      <td>NaN</td>\n",
       "      <td>7870.0</td>\n",
       "      <td>NaN</td>\n",
       "    </tr>\n",
       "    <tr>\n",
       "      <th>2</th>\n",
       "      <td>2.0</td>\n",
       "      <td>414.30</td>\n",
       "      <td>NaN</td>\n",
       "      <td>NaN</td>\n",
       "      <td>NaN</td>\n",
       "      <td>7870.0</td>\n",
       "    </tr>\n",
       "    <tr>\n",
       "      <th>3</th>\n",
       "      <td>NaN</td>\n",
       "      <td>422.15</td>\n",
       "      <td>15.7</td>\n",
       "      <td>0.0023</td>\n",
       "      <td>6913.0</td>\n",
       "      <td>NaN</td>\n",
       "    </tr>\n",
       "    <tr>\n",
       "      <th>4</th>\n",
       "      <td>3.0</td>\n",
       "      <td>430.00</td>\n",
       "      <td>NaN</td>\n",
       "      <td>NaN</td>\n",
       "      <td>NaN</td>\n",
       "      <td>7830.0</td>\n",
       "    </tr>\n",
       "    <tr>\n",
       "      <th>...</th>\n",
       "      <td>...</td>\n",
       "      <td>...</td>\n",
       "      <td>...</td>\n",
       "      <td>...</td>\n",
       "      <td>...</td>\n",
       "      <td>...</td>\n",
       "    </tr>\n",
       "    <tr>\n",
       "      <th>1012</th>\n",
       "      <td>507.0</td>\n",
       "      <td>8198.80</td>\n",
       "      <td>NaN</td>\n",
       "      <td>NaN</td>\n",
       "      <td>NaN</td>\n",
       "      <td>9529.0</td>\n",
       "    </tr>\n",
       "    <tr>\n",
       "      <th>1013</th>\n",
       "      <td>NaN</td>\n",
       "      <td>8206.65</td>\n",
       "      <td>15.7</td>\n",
       "      <td>0.0010</td>\n",
       "      <td>15022.0</td>\n",
       "      <td>NaN</td>\n",
       "    </tr>\n",
       "    <tr>\n",
       "      <th>1014</th>\n",
       "      <td>508.0</td>\n",
       "      <td>8214.50</td>\n",
       "      <td>NaN</td>\n",
       "      <td>NaN</td>\n",
       "      <td>NaN</td>\n",
       "      <td>9536.0</td>\n",
       "    </tr>\n",
       "    <tr>\n",
       "      <th>1015</th>\n",
       "      <td>NaN</td>\n",
       "      <td>8222.35</td>\n",
       "      <td>15.7</td>\n",
       "      <td>0.0011</td>\n",
       "      <td>14523.0</td>\n",
       "      <td>NaN</td>\n",
       "    </tr>\n",
       "    <tr>\n",
       "      <th>1016</th>\n",
       "      <td>509.0</td>\n",
       "      <td>8230.20</td>\n",
       "      <td>NaN</td>\n",
       "      <td>NaN</td>\n",
       "      <td>NaN</td>\n",
       "      <td>9542.0</td>\n",
       "    </tr>\n",
       "  </tbody>\n",
       "</table>\n",
       "<p>1017 rows × 6 columns</p>\n",
       "</div>"
      ],
      "text/plain": [
       "      Level_number    DEPTH  DELTA_DEPTH  DELTA_TIME  ACOUSTIC_INTERVAL_VEL  \\\n",
       "0              1.0     0.00          NaN         NaN                    NaN   \n",
       "1              NaN   207.15          NaN         NaN                 7870.0   \n",
       "2              2.0   414.30          NaN         NaN                    NaN   \n",
       "3              NaN   422.15         15.7      0.0023                 6913.0   \n",
       "4              3.0   430.00          NaN         NaN                    NaN   \n",
       "...            ...      ...          ...         ...                    ...   \n",
       "1012         507.0  8198.80          NaN         NaN                    NaN   \n",
       "1013           NaN  8206.65         15.7      0.0010                15022.0   \n",
       "1014         508.0  8214.50          NaN         NaN                    NaN   \n",
       "1015           NaN  8222.35         15.7      0.0011                14523.0   \n",
       "1016         509.0  8230.20          NaN         NaN                    NaN   \n",
       "\n",
       "      AVERAGE_VEL  \n",
       "0             NaN  \n",
       "1             NaN  \n",
       "2          7870.0  \n",
       "3             NaN  \n",
       "4          7830.0  \n",
       "...           ...  \n",
       "1012       9529.0  \n",
       "1013          NaN  \n",
       "1014       9536.0  \n",
       "1015          NaN  \n",
       "1016       9542.0  \n",
       "\n",
       "[1017 rows x 6 columns]"
      ]
     },
     "execution_count": 116,
     "metadata": {},
     "output_type": "execute_result"
    }
   ],
   "source": [
    "df_cleaned"
   ]
  },
  {
   "cell_type": "markdown",
   "metadata": {},
   "source": [
    "Solo vamos a usar 3 columnas: 'DEPTH','ACOUSTIC_INTERVAL_VEL','DELTA_DEPTH'"
   ]
  },
  {
   "cell_type": "code",
   "execution_count": 118,
   "metadata": {},
   "outputs": [],
   "source": [
    "df_cleaned=df_cleaned[['DEPTH','ACOUSTIC_INTERVAL_VEL','DELTA_DEPTH']] "
   ]
  },
  {
   "cell_type": "code",
   "execution_count": 119,
   "metadata": {},
   "outputs": [
    {
     "data": {
      "text/html": [
       "<div>\n",
       "<style scoped>\n",
       "    .dataframe tbody tr th:only-of-type {\n",
       "        vertical-align: middle;\n",
       "    }\n",
       "\n",
       "    .dataframe tbody tr th {\n",
       "        vertical-align: top;\n",
       "    }\n",
       "\n",
       "    .dataframe thead th {\n",
       "        text-align: right;\n",
       "    }\n",
       "</style>\n",
       "<table border=\"1\" class=\"dataframe\">\n",
       "  <thead>\n",
       "    <tr style=\"text-align: right;\">\n",
       "      <th></th>\n",
       "      <th>DEPTH</th>\n",
       "      <th>ACOUSTIC_INTERVAL_VEL</th>\n",
       "      <th>DELTA_DEPTH</th>\n",
       "    </tr>\n",
       "  </thead>\n",
       "  <tbody>\n",
       "    <tr>\n",
       "      <th>0</th>\n",
       "      <td>0.00</td>\n",
       "      <td>NaN</td>\n",
       "      <td>NaN</td>\n",
       "    </tr>\n",
       "    <tr>\n",
       "      <th>1</th>\n",
       "      <td>207.15</td>\n",
       "      <td>7870.0</td>\n",
       "      <td>NaN</td>\n",
       "    </tr>\n",
       "    <tr>\n",
       "      <th>2</th>\n",
       "      <td>414.30</td>\n",
       "      <td>NaN</td>\n",
       "      <td>NaN</td>\n",
       "    </tr>\n",
       "    <tr>\n",
       "      <th>3</th>\n",
       "      <td>422.15</td>\n",
       "      <td>6913.0</td>\n",
       "      <td>15.7</td>\n",
       "    </tr>\n",
       "    <tr>\n",
       "      <th>4</th>\n",
       "      <td>430.00</td>\n",
       "      <td>NaN</td>\n",
       "      <td>NaN</td>\n",
       "    </tr>\n",
       "    <tr>\n",
       "      <th>...</th>\n",
       "      <td>...</td>\n",
       "      <td>...</td>\n",
       "      <td>...</td>\n",
       "    </tr>\n",
       "    <tr>\n",
       "      <th>1012</th>\n",
       "      <td>8198.80</td>\n",
       "      <td>NaN</td>\n",
       "      <td>NaN</td>\n",
       "    </tr>\n",
       "    <tr>\n",
       "      <th>1013</th>\n",
       "      <td>8206.65</td>\n",
       "      <td>15022.0</td>\n",
       "      <td>15.7</td>\n",
       "    </tr>\n",
       "    <tr>\n",
       "      <th>1014</th>\n",
       "      <td>8214.50</td>\n",
       "      <td>NaN</td>\n",
       "      <td>NaN</td>\n",
       "    </tr>\n",
       "    <tr>\n",
       "      <th>1015</th>\n",
       "      <td>8222.35</td>\n",
       "      <td>14523.0</td>\n",
       "      <td>15.7</td>\n",
       "    </tr>\n",
       "    <tr>\n",
       "      <th>1016</th>\n",
       "      <td>8230.20</td>\n",
       "      <td>NaN</td>\n",
       "      <td>NaN</td>\n",
       "    </tr>\n",
       "  </tbody>\n",
       "</table>\n",
       "<p>1017 rows × 3 columns</p>\n",
       "</div>"
      ],
      "text/plain": [
       "        DEPTH  ACOUSTIC_INTERVAL_VEL  DELTA_DEPTH\n",
       "0        0.00                    NaN          NaN\n",
       "1      207.15                 7870.0          NaN\n",
       "2      414.30                    NaN          NaN\n",
       "3      422.15                 6913.0         15.7\n",
       "4      430.00                    NaN          NaN\n",
       "...       ...                    ...          ...\n",
       "1012  8198.80                    NaN          NaN\n",
       "1013  8206.65                15022.0         15.7\n",
       "1014  8214.50                    NaN          NaN\n",
       "1015  8222.35                14523.0         15.7\n",
       "1016  8230.20                    NaN          NaN\n",
       "\n",
       "[1017 rows x 3 columns]"
      ]
     },
     "execution_count": 119,
     "metadata": {},
     "output_type": "execute_result"
    }
   ],
   "source": [
    "df_cleaned"
   ]
  },
  {
   "cell_type": "markdown",
   "metadata": {},
   "source": [
    "\n",
    "\n",
    "Los valores están es pies y pies/s. Vamos a pasar todo a metros"
   ]
  },
  {
   "cell_type": "code",
   "execution_count": 122,
   "metadata": {},
   "outputs": [],
   "source": [
    "df_cleaned=df_cleaned*0.3048"
   ]
  },
  {
   "cell_type": "code",
   "execution_count": 123,
   "metadata": {},
   "outputs": [
    {
     "data": {
      "text/html": [
       "<div>\n",
       "<style scoped>\n",
       "    .dataframe tbody tr th:only-of-type {\n",
       "        vertical-align: middle;\n",
       "    }\n",
       "\n",
       "    .dataframe tbody tr th {\n",
       "        vertical-align: top;\n",
       "    }\n",
       "\n",
       "    .dataframe thead th {\n",
       "        text-align: right;\n",
       "    }\n",
       "</style>\n",
       "<table border=\"1\" class=\"dataframe\">\n",
       "  <thead>\n",
       "    <tr style=\"text-align: right;\">\n",
       "      <th></th>\n",
       "      <th>DEPTH</th>\n",
       "      <th>ACOUSTIC_INTERVAL_VEL</th>\n",
       "      <th>DELTA_DEPTH</th>\n",
       "    </tr>\n",
       "  </thead>\n",
       "  <tbody>\n",
       "    <tr>\n",
       "      <th>0</th>\n",
       "      <td>0.00000</td>\n",
       "      <td>NaN</td>\n",
       "      <td>NaN</td>\n",
       "    </tr>\n",
       "    <tr>\n",
       "      <th>1</th>\n",
       "      <td>63.13932</td>\n",
       "      <td>2398.7760</td>\n",
       "      <td>NaN</td>\n",
       "    </tr>\n",
       "    <tr>\n",
       "      <th>2</th>\n",
       "      <td>126.27864</td>\n",
       "      <td>NaN</td>\n",
       "      <td>NaN</td>\n",
       "    </tr>\n",
       "    <tr>\n",
       "      <th>3</th>\n",
       "      <td>128.67132</td>\n",
       "      <td>2107.0824</td>\n",
       "      <td>4.78536</td>\n",
       "    </tr>\n",
       "    <tr>\n",
       "      <th>4</th>\n",
       "      <td>131.06400</td>\n",
       "      <td>NaN</td>\n",
       "      <td>NaN</td>\n",
       "    </tr>\n",
       "  </tbody>\n",
       "</table>\n",
       "</div>"
      ],
      "text/plain": [
       "       DEPTH  ACOUSTIC_INTERVAL_VEL  DELTA_DEPTH\n",
       "0    0.00000                    NaN          NaN\n",
       "1   63.13932              2398.7760          NaN\n",
       "2  126.27864                    NaN          NaN\n",
       "3  128.67132              2107.0824      4.78536\n",
       "4  131.06400                    NaN          NaN"
      ]
     },
     "execution_count": 123,
     "metadata": {},
     "output_type": "execute_result"
    }
   ],
   "source": [
    "df_cleaned.head()"
   ]
  },
  {
   "cell_type": "markdown",
   "metadata": {},
   "source": [
    "Vamos a analizar que tanto varían los intervalos de muestreo de profundidad"
   ]
  },
  {
   "cell_type": "code",
   "execution_count": 124,
   "metadata": {},
   "outputs": [
    {
     "data": {
      "text/plain": [
       "count    507.000000\n",
       "mean       4.699992\n",
       "std        0.089747\n",
       "min        4.541520\n",
       "25%        4.602480\n",
       "50%        4.724400\n",
       "75%        4.785360\n",
       "max        4.785360\n",
       "Name: DELTA_DEPTH, dtype: float64"
      ]
     },
     "execution_count": 124,
     "metadata": {},
     "output_type": "execute_result"
    }
   ],
   "source": [
    "df_cleaned['DELTA_DEPTH'].describe()"
   ]
  },
  {
   "cell_type": "code",
   "execution_count": 128,
   "metadata": {},
   "outputs": [
    {
     "data": {
      "text/plain": [
       "0    4.78536\n",
       "Name: DELTA_DEPTH, dtype: float64"
      ]
     },
     "execution_count": 128,
     "metadata": {},
     "output_type": "execute_result"
    }
   ],
   "source": [
    "df_cleaned['DELTA_DEPTH'].mode()"
   ]
  },
  {
   "cell_type": "code",
   "execution_count": 127,
   "metadata": {},
   "outputs": [
    {
     "data": {
      "text/plain": [
       "Text(0.5, 0, 'Profundidad(m)')"
      ]
     },
     "execution_count": 127,
     "metadata": {},
     "output_type": "execute_result"
    },
    {
     "data": {
      "image/png": "[encoded data removed]",
      "text/plain": [
       "<Figure size 640x480 with 1 Axes>"
      ]
     },
     "metadata": {},
     "output_type": "display_data"
    }
   ],
   "source": [
    "df_cleaned['DELTA_DEPTH'].hist()\n",
    "plt.title('Histograma de distribución de intervalos de profundidad')\n",
    "plt.xlabel('Profundidad(m)')"
   ]
  },
  {
   "cell_type": "markdown",
   "metadata": {},
   "source": [
    "La profundidad de muestreo varía entre 4.54m y 4.78m, donde el valor que más se repite es de 4.7853 m"
   ]
  },
  {
   "cell_type": "markdown",
   "metadata": {},
   "source": [
    "# Limpieza de nulos\n",
    "Se van a limpiar las filas donde hay datos nulos"
   ]
  },
  {
   "cell_type": "code",
   "execution_count": 129,
   "metadata": {},
   "outputs": [],
   "source": [
    "df_cleaned = df_cleaned.dropna(how='any')\n"
   ]
  },
  {
   "cell_type": "code",
   "execution_count": 130,
   "metadata": {},
   "outputs": [
    {
     "data": {
      "text/html": [
       "<div>\n",
       "<style scoped>\n",
       "    .dataframe tbody tr th:only-of-type {\n",
       "        vertical-align: middle;\n",
       "    }\n",
       "\n",
       "    .dataframe tbody tr th {\n",
       "        vertical-align: top;\n",
       "    }\n",
       "\n",
       "    .dataframe thead th {\n",
       "        text-align: right;\n",
       "    }\n",
       "</style>\n",
       "<table border=\"1\" class=\"dataframe\">\n",
       "  <thead>\n",
       "    <tr style=\"text-align: right;\">\n",
       "      <th></th>\n",
       "      <th>DEPTH</th>\n",
       "      <th>ACOUSTIC_INTERVAL_VEL</th>\n",
       "      <th>DELTA_DEPTH</th>\n",
       "    </tr>\n",
       "  </thead>\n",
       "  <tbody>\n",
       "    <tr>\n",
       "      <th>3</th>\n",
       "      <td>128.67132</td>\n",
       "      <td>2107.0824</td>\n",
       "      <td>4.78536</td>\n",
       "    </tr>\n",
       "    <tr>\n",
       "      <th>5</th>\n",
       "      <td>133.45668</td>\n",
       "      <td>1933.9560</td>\n",
       "      <td>4.78536</td>\n",
       "    </tr>\n",
       "    <tr>\n",
       "      <th>7</th>\n",
       "      <td>138.24204</td>\n",
       "      <td>1833.0672</td>\n",
       "      <td>4.78536</td>\n",
       "    </tr>\n",
       "    <tr>\n",
       "      <th>9</th>\n",
       "      <td>143.02740</td>\n",
       "      <td>1778.5080</td>\n",
       "      <td>4.78536</td>\n",
       "    </tr>\n",
       "    <tr>\n",
       "      <th>11</th>\n",
       "      <td>147.81276</td>\n",
       "      <td>1723.0344</td>\n",
       "      <td>4.78536</td>\n",
       "    </tr>\n",
       "    <tr>\n",
       "      <th>...</th>\n",
       "      <td>...</td>\n",
       "      <td>...</td>\n",
       "      <td>...</td>\n",
       "    </tr>\n",
       "    <tr>\n",
       "      <th>1007</th>\n",
       "      <td>2487.03084</td>\n",
       "      <td>4012.0824</td>\n",
       "      <td>4.78536</td>\n",
       "    </tr>\n",
       "    <tr>\n",
       "      <th>1009</th>\n",
       "      <td>2491.81620</td>\n",
       "      <td>4429.9632</td>\n",
       "      <td>4.78536</td>\n",
       "    </tr>\n",
       "    <tr>\n",
       "      <th>1011</th>\n",
       "      <td>2496.60156</td>\n",
       "      <td>4684.4712</td>\n",
       "      <td>4.78536</td>\n",
       "    </tr>\n",
       "    <tr>\n",
       "      <th>1013</th>\n",
       "      <td>2501.38692</td>\n",
       "      <td>4578.7056</td>\n",
       "      <td>4.78536</td>\n",
       "    </tr>\n",
       "    <tr>\n",
       "      <th>1015</th>\n",
       "      <td>2506.17228</td>\n",
       "      <td>4426.6104</td>\n",
       "      <td>4.78536</td>\n",
       "    </tr>\n",
       "  </tbody>\n",
       "</table>\n",
       "<p>507 rows × 3 columns</p>\n",
       "</div>"
      ],
      "text/plain": [
       "           DEPTH  ACOUSTIC_INTERVAL_VEL  DELTA_DEPTH\n",
       "3      128.67132              2107.0824      4.78536\n",
       "5      133.45668              1933.9560      4.78536\n",
       "7      138.24204              1833.0672      4.78536\n",
       "9      143.02740              1778.5080      4.78536\n",
       "11     147.81276              1723.0344      4.78536\n",
       "...          ...                    ...          ...\n",
       "1007  2487.03084              4012.0824      4.78536\n",
       "1009  2491.81620              4429.9632      4.78536\n",
       "1011  2496.60156              4684.4712      4.78536\n",
       "1013  2501.38692              4578.7056      4.78536\n",
       "1015  2506.17228              4426.6104      4.78536\n",
       "\n",
       "[507 rows x 3 columns]"
      ]
     },
     "execution_count": 130,
     "metadata": {},
     "output_type": "execute_result"
    }
   ],
   "source": [
    "df_cleaned"
   ]
  },
  {
   "cell_type": "markdown",
   "metadata": {},
   "source": [
    "# Remuestreo de la función de velocidad"
   ]
  },
  {
   "cell_type": "code",
   "execution_count": 131,
   "metadata": {},
   "outputs": [],
   "source": [
    "Velocidad_original={\"Velocidad Original\":df_cleaned}"
   ]
  },
  {
   "cell_type": "code",
   "execution_count": 132,
   "metadata": {},
   "outputs": [],
   "source": [
    "def vel_inter(vel_original,intervalo):\n",
    "    new_depth = np.arange(0, vel_original['DEPTH'].max(), intervalo)\n",
    "    new_df = pd.DataFrame({'DEPTH': new_depth})\n",
    "    new_df['ACOUSTIC_INTERVAL_VEL'] = np.interp(new_df['DEPTH'], vel_original['DEPTH'], vel_original['ACOUSTIC_INTERVAL_VEL'])\n",
    "    label=f'Velocidad remuestreada a {intervalo} m'\n",
    "    return {label:new_df}\n",
    "    "
   ]
  },
  {
   "cell_type": "code",
   "execution_count": 162,
   "metadata": {},
   "outputs": [],
   "source": [
    "\n",
    "def plot_vel(**vels):\n",
    "    # Crear una figura con un tamaño específico\n",
    "    plt.figure(figsize=(4, 8))  # Ajusta el tamaño a 12x8 pulgadas (puedes cambiar estos valores)\n",
    "    \n",
    "    for key, vel in vels.items():\n",
    "        plt.plot(vel['ACOUSTIC_INTERVAL_VEL'], vel['DEPTH'], label=key)\n",
    "    \n",
    "    # Ajustar los ejes\n",
    "    plt.gca().invert_yaxis()  # Invierte el eje Y\n",
    "    \n",
    "    # Añadir etiquetas y título\n",
    "    plt.xlabel('Acoustic Interval Velocity (m/s)')\n",
    "    plt.ylabel('Depth (m)')\n",
    "    plt.title('Depth vs Acoustic Interval Velocity')\n",
    "    \n",
    "    # Añadir una leyenda para identificar las líneas\n",
    "    plt.legend()\n",
    "    \n",
    "    # Mostrar la gráfica\n",
    "    plt.show()\n",
    "\n",
    "\n"
   ]
  },
  {
   "cell_type": "code",
   "execution_count": 137,
   "metadata": {},
   "outputs": [],
   "source": [
    "Vel_original={'Vel original':df_cleaned}"
   ]
  },
  {
   "cell_type": "code",
   "execution_count": 167,
   "metadata": {},
   "outputs": [],
   "source": [
    "Intervalos=[10,50]"
   ]
  },
  {
   "cell_type": "code",
   "execution_count": 168,
   "metadata": {},
   "outputs": [],
   "source": [
    "vel_total={}\n",
    "for i in Intervalos:\n",
    "    vel_total.update(vel_inter(df_cleaned,i))"
   ]
  },
  {
   "cell_type": "code",
   "execution_count": 169,
   "metadata": {},
   "outputs": [
    {
     "data": {
      "image/png": "[encoded data removed]",
      "text/plain": [
       "<Figure size 400x800 with 1 Axes>"
      ]
     },
     "metadata": {},
     "output_type": "display_data"
    }
   ],
   "source": [
    "plot_vel(**Vel_original,**vel_total)"
   ]
  },
  {
   "cell_type": "markdown",
   "metadata": {},
   "source": [
    "# Costrucción de Modelo de Velodad Devito"
   ]
  },
  {
   "cell_type": "code",
   "execution_count": 170,
   "metadata": {},
   "outputs": [],
   "source": [
    "Vel_10=vel_inter(df_cleaned,10)"
   ]
  },
  {
   "cell_type": "code",
   "execution_count": 191,
   "metadata": {},
   "outputs": [
    {
     "data": {
      "text/plain": [
       "0      2107.082400\n",
       "1      2107.082400\n",
       "2      2107.082400\n",
       "3      2107.082400\n",
       "4      2107.082400\n",
       "          ...     \n",
       "246    4512.284415\n",
       "247    4693.826476\n",
       "248    4015.969312\n",
       "249    4271.363824\n",
       "250    4609.359182\n",
       "Name: ACOUSTIC_INTERVAL_VEL, Length: 251, dtype: float64"
      ]
     },
     "execution_count": 191,
     "metadata": {},
     "output_type": "execute_result"
    }
   ],
   "source": [
    "vel_columna=list(Vel_10.values())[0]['ACOUSTIC_INTERVAL_VEL']\n",
    "vel_columna"
   ]
  },
  {
   "cell_type": "code",
   "execution_count": 197,
   "metadata": {},
   "outputs": [
    {
     "data": {
      "text/plain": [
       "array([[2107.0824    , 2107.0824    , 2107.0824    , ..., 4015.9693121 ,\n",
       "        4271.3638242 , 4609.35918217],\n",
       "       [2107.0824    , 2107.0824    , 2107.0824    , ..., 4015.9693121 ,\n",
       "        4271.3638242 , 4609.35918217],\n",
       "       [2107.0824    , 2107.0824    , 2107.0824    , ..., 4015.9693121 ,\n",
       "        4271.3638242 , 4609.35918217],\n",
       "       ...,\n",
       "       [2107.0824    , 2107.0824    , 2107.0824    , ..., 4015.9693121 ,\n",
       "        4271.3638242 , 4609.35918217],\n",
       "       [2107.0824    , 2107.0824    , 2107.0824    , ..., 4015.9693121 ,\n",
       "        4271.3638242 , 4609.35918217],\n",
       "       [2107.0824    , 2107.0824    , 2107.0824    , ..., 4015.9693121 ,\n",
       "        4271.3638242 , 4609.35918217]])"
      ]
     },
     "execution_count": 197,
     "metadata": {},
     "output_type": "execute_result"
    }
   ],
   "source": [
    "v = np.tile(vel_columna.values.reshape(-1, 1), 251).T\n",
    "v"
   ]
  },
  {
   "cell_type": "code",
   "execution_count": 198,
   "metadata": {},
   "outputs": [
    {
     "data": {
      "text/plain": [
       "(251, 251)"
      ]
     },
     "execution_count": 198,
     "metadata": {},
     "output_type": "execute_result"
    }
   ],
   "source": [
    "v.shape"
   ]
  },
  {
   "cell_type": "code",
   "execution_count": 199,
   "metadata": {},
   "outputs": [],
   "source": [
    "#NBVAL_IGNORE_OUTPUT\n",
    "# Adding ignore due to (probably an np notebook magic) bug\n",
    "import numpy as np\n",
    "%matplotlib inline"
   ]
  },
  {
   "cell_type": "code",
   "execution_count": 200,
   "metadata": {},
   "outputs": [],
   "source": [
    "#NBVAL_IGNORE_OUTPUT\n",
    "from examples.seismic import Model, plot_velocity\n",
    "\n",
    "# Define a physical size\n",
    "shape = (251, 251)  # Number of grid point (nx, nz)\n",
    "spacing = (10., 10.)  # Grid spacing in m. The domain size is now 1km by 1km\n",
    "origin = (0., 0.)  # What is the location of the top left corner. This is necessary to define\n",
    "# the absolute location of the source and receivers"
   ]
  },
  {
   "cell_type": "code",
   "execution_count": 203,
   "metadata": {},
   "outputs": [
    {
     "name": "stderr",
     "output_type": "stream",
     "text": [
      "Operator `initdamp` ran in 0.01 s\n"
     ]
    },
    {
     "data": {
      "image/png": "[encoded data removed]",
      "text/plain": [
       "<Figure size 800x600 with 2 Axes>"
      ]
     },
     "metadata": {},
     "output_type": "display_data"
    }
   ],
   "source": [
    "# With the velocity and model size defined, we can create the seismic model that\n",
    "# encapsulates this properties. We also define the size of the absorbing layer as 10 grid points\n",
    "model = Model(vp=v, origin=origin, shape=shape, spacing=spacing,\n",
    "              space_order=2, nbl=10, bcs=\"damp\")\n",
    "\n",
    "plot_velocity(model)"
   ]
  }
 ],
 "metadata": {
  "kernelspec": {
   "display_name": "devito",
   "language": "python",
   "name": "python3"
  },
  "language_info": {
   "codemirror_mode": {
    "name": "ipython",
    "version": 3
   },
   "file_extension": ".py",
   "mimetype": "text/x-python",
   "name": "python",
   "nbconvert_exporter": "python",
   "pygments_lexer": "ipython3",
   "version": "3.10.12"
  }
 },
 "nbformat": 4,
 "nbformat_minor": 2
}
