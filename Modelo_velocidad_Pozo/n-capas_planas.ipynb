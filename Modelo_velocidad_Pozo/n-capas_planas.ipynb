{
 "cells": [
  {
   "cell_type": "code",
   "execution_count": 4,
   "metadata": {},
   "outputs": [],
   "source": [
    "#NBVAL_IGNORE_OUTPUT\n",
    "# Adding ignore due to (probably an np notebook magic) bug\n",
    "import numpy as np\n",
    "import matplotlib.pyplot as plt\n",
    "%matplotlib inline\n",
    "import pandas as pd"
   ]
  },
  {
   "cell_type": "code",
   "execution_count": 1,
   "metadata": {},
   "outputs": [],
   "source": [
    "from devito import *"
   ]
  },
  {
   "cell_type": "code",
   "execution_count": 2,
   "metadata": {},
   "outputs": [],
   "source": [
    "from examples.seismic import Model, plot_velocity"
   ]
  },
  {
   "cell_type": "code",
   "execution_count": null,
   "metadata": {},
   "outputs": [],
   "source": [
    "import numpy as np\n",
    "import pandas as pd\n",
    "\n",
    "def capas_pre_devito(vel_original, no_capas, shape_z):\n",
    "    '''\n",
    "    Función para calcular la matriz de capas de entrada para hacer el campo de velocidades para devito\n",
    "    La entrada vel_original debe ser un dataframe con las siguientes columnas ['DEPTH', 'ACOUSTIC_INTERVAL_VEL', 'DELTA_DEPTH']\n",
    "    no_capas: Las capas que deseo para mi modelo\n",
    "    Shape_z= la dimención de\n",
    "    '''\n",
    "    \n",
    "    \n",
    "    depth_max = vel_original['DEPTH'].max()\n",
    "    intervalo = round(depth_max / (no_capas - 1), 2)\n",
    "    \n",
    "    new_depth = np.arange(0, depth_max, intervalo)\n",
    "    new_df = pd.DataFrame({'DEPTH': new_depth})\n",
    "    \n",
    "    # Interpolación de los valores de velocidad acústica\n",
    "    new_df['ACOUSTIC_INTERVAL_VEL'] = np.interp(new_df['DEPTH'], vel_original['DEPTH'], vel_original['ACOUSTIC_INTERVAL_VEL'])\n",
    "    \n",
    "    # Cálculo de CAPA_INFERIOR\n",
    "    new_df['CAPA_INFERIOR'] = new_df['DEPTH'] + intervalo / 2\n",
    "    new_df.iloc[-1, new_df.columns.get_loc('CAPA_INFERIOR')] = new_df['DEPTH'].iloc[-1]\n",
    "    \n",
    "    # Cálculo de FILA_INF\n",
    "    new_df['FILA_INF'] = np.round(new_df['CAPA_INFERIOR'] * (shape_z - 1) / depth_max + 1).astype(int)\n",
    "    \n",
    "    # Creación de las capas con FILA_INF y ACOUSTIC_INTERVAL_VEL\n",
    "    capas = list(zip(new_df['FILA_INF'], new_df['ACOUSTIC_INTERVAL_VEL'] / 1000))\n",
    "    \n",
    "    return capas\n"
   ]
  },
  {
   "cell_type": "code",
   "execution_count": 100,
   "metadata": {},
   "outputs": [],
   "source": [
    "def campo_velocidades_devito(shape, capas):\n",
    "    \"\"\"\n",
    "    Genera un campo de velocidades con un número variable de capas.\n",
    "\n",
    "    Parameters:\n",
    "    - shape: Tuple que define la forma de la matriz (número de filas, número de columnas).\n",
    "    - capas: Lista de tuplas, donde cada tupla contiene dos valores:\n",
    "             (profundidad_final, velocidad), siendo profundidad_final la columna final de la capa\n",
    "             y velocidad la velocidad asignada a esa capa.\n",
    "\n",
    "    Returns:\n",
    "    - Vel_Devito: Matriz numpy con el campo de velocidades.\n",
    "    \"\"\"\n",
    "    Vel_Devito = np.empty(shape, dtype=np.float32)\n",
    "    \n",
    "    # Inicializar el índice inicial en 0\n",
    "    indice_inicial = 0\n",
    "    \n",
    "    for profundidad_final, velocidad in capas:\n",
    "        Vel_Devito[:, indice_inicial:profundidad_final] = velocidad\n",
    "        indice_inicial = profundidad_final\n",
    "    \n",
    "    return Vel_Devito\n",
    "\n",
    "\n"
   ]
  },
  {
   "cell_type": "code",
   "execution_count": 5,
   "metadata": {},
   "outputs": [],
   "source": [
    "Vel_Pozo= pd.read_csv('vel_pozo_edit.csv')"
   ]
  },
  {
   "cell_type": "code",
   "execution_count": 6,
   "metadata": {},
   "outputs": [
    {
     "data": {
      "text/html": [
       "<div>\n",
       "<style scoped>\n",
       "    .dataframe tbody tr th:only-of-type {\n",
       "        vertical-align: middle;\n",
       "    }\n",
       "\n",
       "    .dataframe tbody tr th {\n",
       "        vertical-align: top;\n",
       "    }\n",
       "\n",
       "    .dataframe thead th {\n",
       "        text-align: right;\n",
       "    }\n",
       "</style>\n",
       "<table border=\"1\" class=\"dataframe\">\n",
       "  <thead>\n",
       "    <tr style=\"text-align: right;\">\n",
       "      <th></th>\n",
       "      <th>DEPTH</th>\n",
       "      <th>ACOUSTIC_INTERVAL_VEL</th>\n",
       "      <th>DELTA_DEPTH</th>\n",
       "    </tr>\n",
       "  </thead>\n",
       "  <tbody>\n",
       "    <tr>\n",
       "      <th>0</th>\n",
       "      <td>128.67132</td>\n",
       "      <td>2107.0824</td>\n",
       "      <td>4.78536</td>\n",
       "    </tr>\n",
       "    <tr>\n",
       "      <th>1</th>\n",
       "      <td>133.45668</td>\n",
       "      <td>1933.9560</td>\n",
       "      <td>4.78536</td>\n",
       "    </tr>\n",
       "    <tr>\n",
       "      <th>2</th>\n",
       "      <td>138.24204</td>\n",
       "      <td>1833.0672</td>\n",
       "      <td>4.78536</td>\n",
       "    </tr>\n",
       "    <tr>\n",
       "      <th>3</th>\n",
       "      <td>143.02740</td>\n",
       "      <td>1778.5080</td>\n",
       "      <td>4.78536</td>\n",
       "    </tr>\n",
       "    <tr>\n",
       "      <th>4</th>\n",
       "      <td>147.81276</td>\n",
       "      <td>1723.0344</td>\n",
       "      <td>4.78536</td>\n",
       "    </tr>\n",
       "    <tr>\n",
       "      <th>...</th>\n",
       "      <td>...</td>\n",
       "      <td>...</td>\n",
       "      <td>...</td>\n",
       "    </tr>\n",
       "    <tr>\n",
       "      <th>502</th>\n",
       "      <td>2487.03084</td>\n",
       "      <td>4012.0824</td>\n",
       "      <td>4.78536</td>\n",
       "    </tr>\n",
       "    <tr>\n",
       "      <th>503</th>\n",
       "      <td>2491.81620</td>\n",
       "      <td>4429.9632</td>\n",
       "      <td>4.78536</td>\n",
       "    </tr>\n",
       "    <tr>\n",
       "      <th>504</th>\n",
       "      <td>2496.60156</td>\n",
       "      <td>4684.4712</td>\n",
       "      <td>4.78536</td>\n",
       "    </tr>\n",
       "    <tr>\n",
       "      <th>505</th>\n",
       "      <td>2501.38692</td>\n",
       "      <td>4578.7056</td>\n",
       "      <td>4.78536</td>\n",
       "    </tr>\n",
       "    <tr>\n",
       "      <th>506</th>\n",
       "      <td>2506.17228</td>\n",
       "      <td>4426.6104</td>\n",
       "      <td>4.78536</td>\n",
       "    </tr>\n",
       "  </tbody>\n",
       "</table>\n",
       "<p>507 rows × 3 columns</p>\n",
       "</div>"
      ],
      "text/plain": [
       "          DEPTH  ACOUSTIC_INTERVAL_VEL  DELTA_DEPTH\n",
       "0     128.67132              2107.0824      4.78536\n",
       "1     133.45668              1933.9560      4.78536\n",
       "2     138.24204              1833.0672      4.78536\n",
       "3     143.02740              1778.5080      4.78536\n",
       "4     147.81276              1723.0344      4.78536\n",
       "..          ...                    ...          ...\n",
       "502  2487.03084              4012.0824      4.78536\n",
       "503  2491.81620              4429.9632      4.78536\n",
       "504  2496.60156              4684.4712      4.78536\n",
       "505  2501.38692              4578.7056      4.78536\n",
       "506  2506.17228              4426.6104      4.78536\n",
       "\n",
       "[507 rows x 3 columns]"
      ]
     },
     "execution_count": 6,
     "metadata": {},
     "output_type": "execute_result"
    }
   ],
   "source": [
    "Vel_Pozo"
   ]
  },
  {
   "cell_type": "code",
   "execution_count": 73,
   "metadata": {},
   "outputs": [
    {
     "data": {
      "text/plain": [
       "Index(['DEPTH', 'ACOUSTIC_INTERVAL_VEL', 'DELTA_DEPTH'], dtype='object')"
      ]
     },
     "execution_count": 73,
     "metadata": {},
     "output_type": "execute_result"
    }
   ],
   "source": [
    "Vel_Pozo.columns"
   ]
  },
  {
   "cell_type": "code",
   "execution_count": 90,
   "metadata": {},
   "outputs": [
    {
     "data": {
      "text/plain": [
       "np.float64(2506.17228)"
      ]
     },
     "execution_count": 90,
     "metadata": {},
     "output_type": "execute_result"
    }
   ],
   "source": [
    "depth_max=Vel_Pozo.DEPTH.max()\n",
    "depth_max"
   ]
  },
  {
   "cell_type": "code",
   "execution_count": 91,
   "metadata": {},
   "outputs": [
    {
     "data": {
      "text/plain": [
       "np.float64(25.0617228)"
      ]
     },
     "execution_count": 91,
     "metadata": {},
     "output_type": "execute_result"
    }
   ],
   "source": [
    "# Define a physical size\n",
    "shape = (101, 101)  # Number of grid point (nx, nz)\n",
    "dz=depth_max/(shape[1]-1)\n",
    "dz"
   ]
  },
  {
   "cell_type": "code",
   "execution_count": 92,
   "metadata": {},
   "outputs": [],
   "source": [
    "dx=dz"
   ]
  },
  {
   "cell_type": "code",
   "execution_count": 93,
   "metadata": {},
   "outputs": [],
   "source": [
    "# Define a physical size\n",
    "\n",
    "spacing = (dx, dz)  # Grid spacing in m. The domain size is now 1km by 1km\n",
    "origin = (0., 0.)  # What is the location of the top left corner. This is necessary to define\n",
    "# the absolute location of the source and receivers"
   ]
  },
  {
   "cell_type": "code",
   "execution_count": 104,
   "metadata": {},
   "outputs": [
    {
     "data": {
      "text/plain": [
       "[(7, 2.1070824),\n",
       " (18, 2.1777239006369435),\n",
       " (29, 2.473975788535032),\n",
       " (40, 3.141375899999998),\n",
       " (51, 3.5620631839464885),\n",
       " (62, 3.304139300662255),\n",
       " (73, 3.454794050814337),\n",
       " (84, 3.006359699035368),\n",
       " (95, 3.14028474649682),\n",
       " (101, 4.427636369426749)]"
      ]
     },
     "execution_count": 104,
     "metadata": {},
     "output_type": "execute_result"
    }
   ],
   "source": [
    "capas=capas_pre_devito(Vel_Pozo,10,shape[1])\n",
    "capas"
   ]
  },
  {
   "cell_type": "code",
   "execution_count": 105,
   "metadata": {},
   "outputs": [],
   "source": [
    "v=v = campo_velocidades_devito(shape, capas)"
   ]
  },
  {
   "cell_type": "code",
   "execution_count": 106,
   "metadata": {},
   "outputs": [
    {
     "name": "stderr",
     "output_type": "stream",
     "text": [
      "Operator `initdamp` ran in 0.01 s\n"
     ]
    },
    {
     "data": {
      "image/png": "[encoded data removed]",
      "text/plain": [
       "<Figure size 800x600 with 2 Axes>"
      ]
     },
     "metadata": {},
     "output_type": "display_data"
    }
   ],
   "source": [
    "# With the velocity and model size defined, we can create the seismic model that\n",
    "# encapsulates this properties. We also define the size of the absorbing layer as 10 grid points\n",
    "model = Model(vp=v, origin=origin, shape=shape, spacing=spacing,\n",
    "              space_order=2, nbl=10, bcs=\"damp\")\n",
    "\n",
    "plot_velocity(model)"
   ]
  }
 ],
 "metadata": {
  "kernelspec": {
   "display_name": "devito",
   "language": "python",
   "name": "python3"
  },
  "language_info": {
   "codemirror_mode": {
    "name": "ipython",
    "version": 3
   },
   "file_extension": ".py",
   "mimetype": "text/x-python",
   "name": "python",
   "nbconvert_exporter": "python",
   "pygments_lexer": "ipython3",
   "version": "3.10.12"
  }
 },
 "nbformat": 4,
 "nbformat_minor": 2
}
